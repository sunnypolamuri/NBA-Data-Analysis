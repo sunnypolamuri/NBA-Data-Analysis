{
 "cells": [
  {
   "cell_type": "markdown",
   "id": "1e2e62d3",
   "metadata": {},
   "source": [
    "##Importing necessary libraries"
   ]
  },
  {
   "cell_type": "code",
   "execution_count": null,
   "id": "3c44dd36",
   "metadata": {},
   "outputs": [],
   "source": [
    "import pandas as pd\n",
    "import requests\n",
    "pd.set_option('display.max_columns', None) #So we can see all columns in a wide DataFrame\n",
    "import time\n",
    "import numpy as np"
   ]
  },
  {
   "cell_type": "markdown",
   "id": "4cf44000",
   "metadata": {},
   "source": [
    "##Testing a sample dataframe using the data from 2014-15 regular season"
   ]
  },
  {
   "cell_type": "code",
   "execution_count": null,
   "id": "9e691586",
   "metadata": {},
   "outputs": [],
   "source": [
    "test_url = 'https://stats.nba.com/stats/leagueLeaders?LeagueID=00&PerMode=Totals&Scope=S&Season=2014-15&SeasonType=Regular%20Season&StatCategory=PTS'"
   ]
  },
  {
   "cell_type": "code",
   "execution_count": null,
   "id": "9745c350",
   "metadata": {},
   "outputs": [],
   "source": [
    "r = requests.get(url=test_url).json()"
   ]
  },
  {
   "cell_type": "code",
   "execution_count": null,
   "id": "4cabe61e",
   "metadata": {},
   "outputs": [],
   "source": [
    "table_headers = r['resultSet']['headers']"
   ]
  },
  {
   "cell_type": "code",
   "execution_count": null,
   "id": "2a82edf0",
   "metadata": {},
   "outputs": [],
   "source": [
    "pd.DataFrame(r['resultSet']['rowSet'], columns = table_headers)"
   ]
  },
  {
   "cell_type": "code",
   "execution_count": null,
   "id": "cc99ce34",
   "metadata": {},
   "outputs": [],
   "source": [
    "temp_df1 = pd.DataFrame(r['resultSet']['rowSet'], columns = table_headers)\n",
    "temp_df2 = pd.DataFrame({'Year' :['2014-15' for i in range(len(temp_df1))],\n",
    "                         'Season_type':['Regular%20Season' for i in range(len(temp_df1))]})\n",
    "temp_df3 = pd.concat([temp_df2,temp_df1], axis=1)\n",
    "temp_df3"
   ]
  },
  {
   "cell_type": "code",
   "execution_count": null,
   "id": "02f60042",
   "metadata": {},
   "outputs": [],
   "source": [
    "del temp_df1, temp_df2, temp_df3"
   ]
  },
  {
   "cell_type": "markdown",
   "id": "9f1d3620",
   "metadata": {},
   "source": [
    "##Forming the actual dataset using data from 2014-15 to 2023-24 regular season and playoffs season"
   ]
  },
  {
   "cell_type": "code",
   "execution_count": null,
   "id": "05a9fedd",
   "metadata": {},
   "outputs": [],
   "source": [
    "df_cols = ['Year','Season_type'] + table_headers"
   ]
  },
  {
   "cell_type": "code",
   "execution_count": 49,
   "id": "9ad3f5d7",
   "metadata": {},
   "outputs": [
    {
     "data": {
      "text/html": [
       "<div>\n",
       "<style scoped>\n",
       "    .dataframe tbody tr th:only-of-type {\n",
       "        vertical-align: middle;\n",
       "    }\n",
       "\n",
       "    .dataframe tbody tr th {\n",
       "        vertical-align: top;\n",
       "    }\n",
       "\n",
       "    .dataframe thead th {\n",
       "        text-align: right;\n",
       "    }\n",
       "</style>\n",
       "<table border=\"1\" class=\"dataframe\">\n",
       "  <thead>\n",
       "    <tr style=\"text-align: right;\">\n",
       "      <th></th>\n",
       "      <th>Year</th>\n",
       "      <th>Season_type</th>\n",
       "      <th>PLAYER_ID</th>\n",
       "      <th>RANK</th>\n",
       "      <th>PLAYER</th>\n",
       "      <th>TEAM_ID</th>\n",
       "      <th>TEAM</th>\n",
       "      <th>GP</th>\n",
       "      <th>MIN</th>\n",
       "      <th>FGM</th>\n",
       "      <th>FGA</th>\n",
       "      <th>FG_PCT</th>\n",
       "      <th>FG3M</th>\n",
       "      <th>FG3A</th>\n",
       "      <th>FG3_PCT</th>\n",
       "      <th>FTM</th>\n",
       "      <th>FTA</th>\n",
       "      <th>FT_PCT</th>\n",
       "      <th>OREB</th>\n",
       "      <th>DREB</th>\n",
       "      <th>REB</th>\n",
       "      <th>AST</th>\n",
       "      <th>STL</th>\n",
       "      <th>BLK</th>\n",
       "      <th>TOV</th>\n",
       "      <th>PF</th>\n",
       "      <th>PTS</th>\n",
       "      <th>EFF</th>\n",
       "      <th>AST_TOV</th>\n",
       "      <th>STL_TOV</th>\n",
       "    </tr>\n",
       "  </thead>\n",
       "  <tbody>\n",
       "  </tbody>\n",
       "</table>\n",
       "</div>"
      ],
      "text/plain": [
       "Empty DataFrame\n",
       "Columns: [Year, Season_type, PLAYER_ID, RANK, PLAYER, TEAM_ID, TEAM, GP, MIN, FGM, FGA, FG_PCT, FG3M, FG3A, FG3_PCT, FTM, FTA, FT_PCT, OREB, DREB, REB, AST, STL, BLK, TOV, PF, PTS, EFF, AST_TOV, STL_TOV]\n",
       "Index: []"
      ]
     },
     "execution_count": 49,
     "metadata": {},
     "output_type": "execute_result"
    }
   ],
   "source": [
    "pd.DataFrame(columns=df_cols)"
   ]
  },
  {
   "cell_type": "code",
   "execution_count": null,
   "id": "a91fa4c7",
   "metadata": {},
   "outputs": [],
   "source": [
    "headers = {\n",
    "    'Accept': '*/*',\n",
    "    'Accept-encoding': 'gzip, deflate, br', \n",
    "    'Accept-language': 'en-US,en;q=0.9',\n",
    "    'Connection': 'keep-alive',\n",
    "    'Host': 'stats.nba.com',\n",
    "    'Origin':'https://www.nba.com',\n",
    "    'Referer':'https://www.nba.com/',\n",
    "    'sec-ch-ua': '\"Chromium\";v=\"130\", \"Google Chrome\";v=\"130\", \"Not?A_Brand\";v=\"99\"',\n",
    "    'sec-ch-ua-mobile':'?0',\n",
    "    'sec-ch-ua-platform':'\"Windows\"',\n",
    "    'sec-fetch-dest':'empty',\n",
    "    'sec-fetch-mode':'cors',\n",
    "    'sec-fetch-site':'same-site',\n",
    "    'user-agent':'Mozilla/5.0 (Windows NT 10.0; Win64; x64) AppleWebKit/537.36 (KHTML, like Gecko) Chrome/130.0.0.0 Safari/537.36'\n",
    "}"
   ]
  },
  {
   "cell_type": "markdown",
   "id": "42285c85",
   "metadata": {},
   "source": [
    "##Populating the dataframe with data scraped from the webpages of 2014-15 to 2023-24 regular and playoff seasons"
   ]
  },
  {
   "cell_type": "code",
   "execution_count": 50,
   "id": "d01c16bc",
   "metadata": {},
   "outputs": [
    {
     "name": "stdout",
     "output_type": "stream",
     "text": [
      "Finished scraping data for the 2014-15 Regular%20Season.\n",
      "...Waiting 9.6 seconds\n",
      "Finished scraping data for the 2014-15 Playoffs.\n",
      "...Waiting 28.5 seconds\n",
      "Finished scraping data for the 2015-16 Regular%20Season.\n",
      "...Waiting 20.5 seconds\n",
      "Finished scraping data for the 2015-16 Playoffs.\n",
      "...Waiting 15.1 seconds\n",
      "Finished scraping data for the 2016-17 Regular%20Season.\n",
      "...Waiting 11.9 seconds\n",
      "Finished scraping data for the 2016-17 Playoffs.\n",
      "...Waiting 9.9 seconds\n",
      "Finished scraping data for the 2017-18 Regular%20Season.\n",
      "...Waiting 33.9 seconds\n",
      "Finished scraping data for the 2017-18 Playoffs.\n",
      "...Waiting 35.9 seconds\n",
      "Finished scraping data for the 2018-19 Regular%20Season.\n",
      "...Waiting 28.3 seconds\n",
      "Finished scraping data for the 2018-19 Playoffs.\n",
      "...Waiting 24.9 seconds\n",
      "Finished scraping data for the 2019-20 Regular%20Season.\n",
      "...Waiting 15.8 seconds\n",
      "Finished scraping data for the 2019-20 Playoffs.\n",
      "...Waiting 36.2 seconds\n",
      "Finished scraping data for the 2020-21 Regular%20Season.\n",
      "...Waiting 7.4 seconds\n",
      "Finished scraping data for the 2020-21 Playoffs.\n",
      "...Waiting 25.6 seconds\n",
      "Finished scraping data for the 2021-22 Regular%20Season.\n",
      "...Waiting 25.4 seconds\n",
      "Finished scraping data for the 2021-22 Playoffs.\n",
      "...Waiting 13.5 seconds\n",
      "Finished scraping data for the 2022-23 Regular%20Season.\n",
      "...Waiting 10.1 seconds\n",
      "Finished scraping data for the 2022-23 Playoffs.\n",
      "...Waiting 9.7 seconds\n",
      "Finished scraping data for the 2023-24 Regular%20Season.\n",
      "...Waiting 5.2 seconds\n",
      "Finished scraping data for the 2023-24 Playoffs.\n",
      "...Waiting 24.6 seconds\n",
      "Process Completed! Total Run time: 6.69\n"
     ]
    }
   ],
   "source": [
    "df = pd.DataFrame(columns=df_cols)\n",
    "season_types = ['Regular%20Season','Playoffs']\n",
    "years = ['2014-15','2015-16','2016-17','2017-18','2018-19','2019-20','2020-21','2021-22','2022-23','2023-24']\n",
    "\n",
    "begin_loop = time.time()\n",
    "\n",
    "for y in years:\n",
    "    for s in season_types:\n",
    "        api_url ='https://stats.nba.com/stats/leagueLeaders?LeagueID=00&PerMode=Totals&Scope=S&Season='+y+'&SeasonType='+s+'&StatCategory=PTS'\n",
    "        r = requests.get(url=api_url).json()\n",
    "        temp_df1 = pd.DataFrame(r['resultSet']['rowSet'], columns = table_headers)\n",
    "        temp_df2 = pd.DataFrame({'Year' :[y for i in range(len(temp_df1))],\n",
    "                                 'Season_type':[s for i in range(len(temp_df1))]})\n",
    "        temp_df3 = pd.concat([temp_df2,temp_df1], axis=1)\n",
    "        df = pd.concat([df, temp_df3], axis=0)\n",
    "        print(f'Finished scraping data for the {y} {s}.')\n",
    "        lag = np.random.uniform(low=5,high=40)\n",
    "        print(f'...Waiting {round(lag,1)} seconds')\n",
    "        time.sleep(lag)\n",
    "        \n",
    "print(f'Process Completed! Total Run time: {round((time.time()-begin_loop)/60,2)}')\n",
    "df.to_excel('nba_player_data.xlsx', index=False)"
   ]
  }
 ],
 "metadata": {
  "kernelspec": {
   "display_name": "Python 3 (ipykernel)",
   "language": "python",
   "name": "python3"
  },
  "language_info": {
   "codemirror_mode": {
    "name": "ipython",
    "version": 3
   },
   "file_extension": ".py",
   "mimetype": "text/x-python",
   "name": "python",
   "nbconvert_exporter": "python",
   "pygments_lexer": "ipython3",
   "version": "3.9.13"
  }
 },
 "nbformat": 4,
 "nbformat_minor": 5
}
